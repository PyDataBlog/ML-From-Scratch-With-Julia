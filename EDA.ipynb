{
 "cells": [
  {
   "cell_type": "code",
   "execution_count": 1,
   "metadata": {},
   "outputs": [
    {
     "name": "stderr",
     "output_type": "stream",
     "text": [
      "Warning: Failed to set locale category LC_NUMERIC to en_DK.\n",
      "Warning: Failed to set locale category LC_TIME to en_DK.\n",
      "Warning: Failed to set locale category LC_COLLATE to en_DK.\n",
      "Warning: Failed to set locale category LC_MONETARY to en_DK.\n",
      "Warning: Failed to set locale category LC_MESSAGES to en_DK.\n"
     ]
    }
   ],
   "source": [
    "using HDF5\n",
    "using Images\n",
    "using ImageView"
   ]
  },
  {
   "cell_type": "code",
   "execution_count": 3,
   "metadata": {},
   "outputs": [],
   "source": [
    "url = \"https://raw.githubusercontent.com/PyDataBlog/NN-From-Scratch-With-Julia/master/train_catvnoncat.h5\";"
   ]
  },
  {
   "cell_type": "code",
   "execution_count": 5,
   "metadata": {},
   "outputs": [
    {
     "data": {
      "text/plain": [
       "\"train.h5\""
      ]
     },
     "execution_count": 5,
     "metadata": {},
     "output_type": "execute_result"
    }
   ],
   "source": [
    "download(url, \"train.h5\")"
   ]
  },
  {
   "cell_type": "code",
   "execution_count": 6,
   "metadata": {},
   "outputs": [
    {
     "data": {
      "text/plain": [
       "load_data"
      ]
     },
     "execution_count": 6,
     "metadata": {},
     "output_type": "execute_result"
    }
   ],
   "source": [
    "\"\"\"\n",
    "    Function to load toy data.\n",
    "\"\"\"\n",
    "function load_data()\n",
    "    train_dataset = Float64.(h5read(\"train.h5\", \"train_set_x\")) # shape = (3, 64, 64, 209)\n",
    "    \n",
    "    train_x_flat = reshape(train_dataset, :, size(train_dataset, 4)) # shape = (12288, 209) BUT wrong!\n",
    "    \n",
    "    return (train_x_orig = train_dataset, train_x_flat)\n",
    "end"
   ]
  },
  {
   "cell_type": "code",
   "execution_count": 7,
   "metadata": {},
   "outputs": [],
   "source": [
    "train_x_orig,  train_x_flat = load_data();"
   ]
  },
  {
   "cell_type": "code",
   "execution_count": null,
   "metadata": {},
   "outputs": [],
   "source": [
    "# Example of a picture\n",
    "index = 50\n",
    "colorview(RGB, train_x_orig[:, :, :, index]);  # gibberish image"
   ]
  },
  {
   "cell_type": "code",
   "execution_count": 22,
   "metadata": {},
   "outputs": [],
   "source": [
    "x = Float64.(h5read(\"train.h5\", \"train_set_x\"));"
   ]
  },
  {
   "cell_type": "code",
   "execution_count": 18,
   "metadata": {},
   "outputs": [
    {
     "data": {
      "text/plain": [
       "3×64×64 Array{Float64,3}:\n",
       "[:, :, 1] =\n",
       "  8.0  14.0  19.0  19.0  16.0  16.0  …  17.0  13.0  12.0  11.0  10.0   9.0\n",
       " 28.0  33.0  35.0  35.0  32.0  32.0     20.0  18.0  17.0  16.0  16.0  14.0\n",
       " 53.0  58.0  61.0  61.0  58.0  58.0     39.0  37.0  36.0  35.0  35.0  32.0\n",
       "\n",
       "[:, :, 2] =\n",
       " 15.0  15.0  18.0  21.0  20.0  19.0  …  18.0  16.0  14.0  13.0  13.0  13.0\n",
       " 31.0  32.0  34.0  36.0  35.0  34.0     20.0  19.0  18.0  17.0  17.0  16.0\n",
       " 57.0  58.0  60.0  63.0  62.0  60.0     40.0  38.0  36.0  35.0  35.0  35.0\n",
       "\n",
       "[:, :, 3] =\n",
       " 20.0  19.0  20.0  22.0  23.0  23.0  …  19.0  18.0  16.0  16.0  16.0  15.0\n",
       " 35.0  33.0  33.0  35.0  37.0  37.0     20.0  19.0  18.0  17.0  18.0  17.0\n",
       " 61.0  59.0  59.0  62.0  64.0  64.0     40.0  37.0  35.0  35.0  35.0  35.0\n",
       "\n",
       "...\n",
       "\n",
       "[:, :, 62] =\n",
       " 0.0  0.0  0.0  0.0  0.0  0.0  0.0  0.0  …  0.0  0.0  0.0  0.0  0.0  0.0  0.0\n",
       " 0.0  0.0  0.0  0.0  0.0  0.0  0.0  0.0     0.0  0.0  0.0  0.0  0.0  0.0  0.0\n",
       " 0.0  0.0  0.0  0.0  0.0  0.0  0.0  0.0     0.0  0.0  0.0  0.0  0.0  0.0  0.0\n",
       "\n",
       "[:, :, 63] =\n",
       " 0.0  0.0  0.0  0.0  0.0  0.0  0.0  0.0  …  0.0  0.0  0.0  0.0  0.0  0.0  0.0\n",
       " 0.0  0.0  0.0  0.0  0.0  0.0  0.0  0.0     0.0  0.0  0.0  0.0  0.0  0.0  0.0\n",
       " 0.0  0.0  0.0  0.0  0.0  0.0  0.0  0.0     0.0  0.0  0.0  0.0  0.0  0.0  0.0\n",
       "\n",
       "[:, :, 64] =\n",
       " 0.0  0.0  0.0  0.0  0.0  0.0  0.0  0.0  …  0.0  0.0  0.0  0.0  0.0  0.0  0.0\n",
       " 0.0  0.0  0.0  0.0  0.0  0.0  0.0  0.0     0.0  0.0  0.0  0.0  0.0  0.0  0.0\n",
       " 0.0  0.0  0.0  0.0  0.0  0.0  0.0  0.0     0.0  0.0  0.0  0.0  0.0  0.0  0.0"
      ]
     },
     "execution_count": 18,
     "metadata": {},
     "output_type": "execute_result"
    }
   ],
   "source": [
    "x[:, :, :, end]"
   ]
  },
  {
   "cell_type": "code",
   "execution_count": 27,
   "metadata": {},
   "outputs": [
    {
     "data": {
      "image/png": "[encoded data removed]",
      "text/plain": [
       "64×64 reshape(reinterpret(RGB{Float64}, ::Array{Float64,3}), 64, 64) with eltype RGB{Float64}:\n",
       " RGB{Float64}(8.0,28.0,53.0)   …  RGB{Float64}(0.0,0.0,0.0)\n",
       " RGB{Float64}(14.0,33.0,58.0)     RGB{Float64}(0.0,0.0,0.0)\n",
       " RGB{Float64}(19.0,35.0,61.0)     RGB{Float64}(0.0,0.0,0.0)\n",
       " RGB{Float64}(19.0,35.0,61.0)     RGB{Float64}(0.0,0.0,0.0)\n",
       " RGB{Float64}(16.0,32.0,58.0)     RGB{Float64}(0.0,0.0,0.0)\n",
       " RGB{Float64}(16.0,32.0,58.0)  …  RGB{Float64}(0.0,0.0,0.0)\n",
       " RGB{Float64}(20.0,36.0,62.0)     RGB{Float64}(0.0,0.0,0.0)\n",
       " RGB{Float64}(22.0,38.0,64.0)     RGB{Float64}(0.0,0.0,0.0)\n",
       " RGB{Float64}(19.0,35.0,60.0)     RGB{Float64}(0.0,0.0,0.0)\n",
       " RGB{Float64}(16.0,29.0,54.0)     RGB{Float64}(0.0,0.0,0.0)\n",
       " RGB{Float64}(19.0,32.0,58.0)  …  RGB{Float64}(0.0,0.0,0.0)\n",
       " RGB{Float64}(26.0,39.0,66.0)     RGB{Float64}(0.0,0.0,0.0)\n",
       " RGB{Float64}(29.0,43.0,70.0)     RGB{Float64}(0.0,0.0,0.0)\n",
       " ⋮                             ⋱  \n",
       " RGB{Float64}(25.0,26.0,46.0)     RGB{Float64}(0.0,0.0,0.0)\n",
       " RGB{Float64}(23.0,25.0,44.0)     RGB{Float64}(0.0,0.0,0.0)\n",
       " RGB{Float64}(21.0,23.0,43.0)     RGB{Float64}(0.0,0.0,0.0)\n",
       " RGB{Float64}(21.0,23.0,42.0)  …  RGB{Float64}(0.0,0.0,0.0)\n",
       " RGB{Float64}(20.0,22.0,42.0)     RGB{Float64}(0.0,0.0,0.0)\n",
       " RGB{Float64}(19.0,21.0,40.0)     RGB{Float64}(0.0,0.0,0.0)\n",
       " RGB{Float64}(17.0,20.0,39.0)     RGB{Float64}(0.0,0.0,0.0)\n",
       " RGB{Float64}(13.0,18.0,37.0)     RGB{Float64}(0.0,0.0,0.0)\n",
       " RGB{Float64}(12.0,17.0,36.0)  …  RGB{Float64}(0.0,0.0,0.0)\n",
       " RGB{Float64}(11.0,16.0,35.0)     RGB{Float64}(0.0,0.0,0.0)\n",
       " RGB{Float64}(10.0,16.0,35.0)     RGB{Float64}(0.0,0.0,0.0)\n",
       " RGB{Float64}(9.0,14.0,32.0)      RGB{Float64}(0.0,0.0,0.0)"
      ]
     },
     "execution_count": 27,
     "metadata": {},
     "output_type": "execute_result"
    }
   ],
   "source": [
    "colorview(RGB, x[:, :, :, end])"
   ]
  },
  {
   "cell_type": "code",
   "execution_count": null,
   "metadata": {},
   "outputs": [],
   "source": []
  },
  {
   "cell_type": "code",
   "execution_count": null,
   "metadata": {},
   "outputs": [],
   "source": []
  }
 ],
 "metadata": {
  "kernelspec": {
   "display_name": "Julia 1.5.0",
   "language": "julia",
   "name": "julia-1.5"
  },
  "language_info": {
   "file_extension": ".jl",
   "mimetype": "application/julia",
   "name": "julia",
   "version": "1.5.0"
  }
 },
 "nbformat": 4,
 "nbformat_minor": 4
}
