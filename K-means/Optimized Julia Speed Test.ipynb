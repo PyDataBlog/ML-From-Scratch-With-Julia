{
 "cells": [
  {
   "cell_type": "markdown",
   "metadata": {},
   "source": [
    "# Load Packages"
   ]
  },
  {
   "cell_type": "code",
   "execution_count": 1,
   "metadata": {
    "ExecuteTime": {
     "end_time": "2020-02-17T15:25:42.278000+01:00",
     "start_time": "2020-02-17T14:25:23.812Z"
    }
   },
   "outputs": [
    {
     "name": "stdout",
     "output_type": "stream",
     "text": [
      "\u001b[32m\u001b[1m  Building\u001b[22m\u001b[39m Conda ─→ `~/.julia/packages/Conda/3rPhK/deps/build.log`\n",
      "\u001b[32m\u001b[1m  Building\u001b[22m\u001b[39m PyCall → `~/.julia/packages/PyCall/kAhnQ/deps/build.log`\n"
     ]
    }
   ],
   "source": [
    "using Pkg\n",
    "\n",
    "# Replace python environment to suit your needs\n",
    "ENV[\"PYTHON\"] = \"/home/mysterio/miniconda3/envs/pydata/bin/python\"\n",
    "Pkg.build(\"PyCall\")  # Build PyCall to suit the specified Python env\n",
    "\n",
    "using PyCall\n",
    "using Plots\n",
    "using LinearAlgebra\n",
    "using Statistics\n",
    "using StatsBase\n",
    "using BenchmarkTools\n",
    "using Distances"
   ]
  },
  {
   "cell_type": "code",
   "execution_count": null,
   "metadata": {},
   "outputs": [],
   "source": []
  },
  {
   "cell_type": "code",
   "execution_count": 2,
   "metadata": {
    "ExecuteTime": {
     "end_time": "2020-02-17T15:25:49.118000+01:00",
     "start_time": "2020-02-17T14:25:23.840Z"
    }
   },
   "outputs": [],
   "source": [
    "# import sklearn datasets\n",
    "data = pyimport(\"sklearn.datasets\")\n",
    "\n",
    "X, y = data.make_blobs(n_samples=1000000, n_features=3, \n",
    "                       centers=3, cluster_std=0.9, random_state=80);"
   ]
  },
  {
   "cell_type": "code",
   "execution_count": 3,
   "metadata": {
    "ExecuteTime": {
     "end_time": "2020-02-17T15:25:49.931000+01:00",
     "start_time": "2020-02-17T14:25:23.848Z"
    }
   },
   "outputs": [
    {
     "data": {
      "text/plain": [
       "(1000000, 3)"
      ]
     },
     "execution_count": 3,
     "metadata": {},
     "output_type": "execute_result"
    }
   ],
   "source": [
    "size(X)"
   ]
  },
  {
   "cell_type": "code",
   "execution_count": null,
   "metadata": {},
   "outputs": [],
   "source": []
  },
  {
   "cell_type": "markdown",
   "metadata": {},
   "source": [
    "# Main Functions"
   ]
  },
  {
   "cell_type": "markdown",
   "metadata": {},
   "source": [
    "## Smart Random Initialisation "
   ]
  },
  {
   "cell_type": "code",
   "execution_count": 4,
   "metadata": {
    "ExecuteTime": {
     "end_time": "2020-02-17T15:25:50.728000+01:00",
     "start_time": "2020-02-17T14:25:23.864Z"
    }
   },
   "outputs": [
    {
     "data": {
      "text/plain": [
       "smart_init"
      ]
     },
     "execution_count": 4,
     "metadata": {},
     "output_type": "execute_result"
    }
   ],
   "source": [
    "\"\"\" \n",
    "    smart_init(X, k; init=\"k-means++\")\n",
    "\n",
    "    This function handles the random initialisation of the centroids from the\n",
    "    design matrix (X) and desired groups (k) that a user supplies. \n",
    "    \n",
    "    `k-means++` algorithm is used by default with the normal random selection\n",
    "    of centroids from X used if any other string is attempted. \n",
    "    \n",
    "    A tuple representing the centroids, number of rows, & columns respecitively\n",
    "    is returned.\n",
    "\"\"\"\n",
    "function smart_init(X::Array{Float64, 2}, k::Int; init::String=\"k-means++\")\n",
    "    n_row, n_col = size(X)\n",
    "\n",
    "    if init == \"k-means++\"\n",
    "\n",
    "        # randonmly select the first centroid from the data (X)\n",
    "        centroids = zeros(k, n_col)\n",
    "        rand_idx = rand(1:n_row)\n",
    "        centroids[1, :] .= X[rand_idx, :]\n",
    "        distances = Array{Float64}(undef, n_row, 1)\n",
    "        new_distances = Array{Float64}(undef, n_row, 1)\n",
    "\n",
    "        # compute distances from the first centroid chosen to all the other data points\n",
    "        first_centroid_matrix = convert(Matrix, centroids[1, :]')\n",
    "        \n",
    "        pairwise2!(distances, X, first_centroid_matrix)\n",
    "\n",
    "        for i = 2:k\n",
    "            # choose the next centroid, the probability for each data point to be chosen\n",
    "            # is directly proportional to its squared distance from the nearest centroid\n",
    "            r_idx = sample(1:n_row, ProbabilityWeights(vec(distances)))\n",
    "            centroids[i, :] .= X[r_idx, :]\n",
    "\n",
    "            # Ignore setting the last centroid to help the separation of centroids\n",
    "            if i == (k-1)\n",
    "                break\n",
    "            end\n",
    "\n",
    "            # compute distances from the centroids to all data points\n",
    "            current_centroid_matrix = convert(Matrix, centroids[i, :]')\n",
    "\n",
    "            pairwise2!(new_distances, X, first_centroid_matrix)\n",
    "\n",
    "            for i in 1:n_row\n",
    "                distances[i, 1] = distances[i, 1] < new_distances[i, 1] ? distances[i, 1] : new_distances[i, 1]\n",
    "            end\n",
    "        end\n",
    "\n",
    "    else\n",
    "        # randomly select points from the design matrix as the initial centroids\n",
    "        rand_indices = rand(1:n_row, k)\n",
    "        centroids = X[rand_indices, :]\n",
    "\n",
    "    end\n",
    "\n",
    "    return centroids, n_row, n_col\n",
    "end"
   ]
  },
  {
   "cell_type": "code",
   "execution_count": null,
   "metadata": {},
   "outputs": [],
   "source": []
  },
  {
   "cell_type": "code",
   "execution_count": null,
   "metadata": {},
   "outputs": [],
   "source": []
  },
  {
   "cell_type": "markdown",
   "metadata": {},
   "source": [
    "## Inertia between centroids and points"
   ]
  },
  {
   "cell_type": "code",
   "execution_count": 5,
   "metadata": {
    "ExecuteTime": {
     "end_time": "2020-02-17T15:25:50.762000+01:00",
     "start_time": "2020-02-17T14:25:23.874Z"
    }
   },
   "outputs": [
    {
     "data": {
      "text/plain": [
       "sum_of_squares"
      ]
     },
     "execution_count": 5,
     "metadata": {},
     "output_type": "execute_result"
    }
   ],
   "source": [
    "\"\"\" \n",
    "    sum_of_squares(x, labels, centre, k)\n",
    "    \n",
    "    This function computes the total sum of squares based on the assigned (labels)\n",
    "    design matrix(x), centroids (centre), and the number of desired groups (k).\n",
    "\n",
    "    A Float type representing the computed metric is returned. \n",
    "\"\"\"\n",
    "function sum_of_squares(x::Array{Float64,2}, labels::Array{Int64,1}, centre::Array)\n",
    "    s = 0.0\n",
    "\n",
    "    @inbounds for j in axes(x, 2)\n",
    "        for i in axes(x, 1)\n",
    "            s += (x[i, j] - centre[labels[i], j])^2\n",
    "        end\n",
    "    end\n",
    "\n",
    "    return s\n",
    "end"
   ]
  },
  {
   "cell_type": "code",
   "execution_count": 6,
   "metadata": {
    "ExecuteTime": {
     "end_time": "2020-02-17T15:25:50.775000+01:00",
     "start_time": "2020-02-17T14:25:23.878Z"
    }
   },
   "outputs": [
    {
     "data": {
      "text/plain": [
       "pairwise2!"
      ]
     },
     "execution_count": 6,
     "metadata": {},
     "output_type": "execute_result"
    }
   ],
   "source": [
    "\"\"\"\n",
    "    Optimized Pairwise Eucleudian distance function based on target, x, and y\n",
    "\"\"\"\n",
    "function pairwise2!(target, x, y)\n",
    "    ncol = size(x, 2)\n",
    "    \n",
    "    @inbounds for k in axes(y, 1)\n",
    "        for i in axes(x, 1)\n",
    "            target[i, k] = (x[i, 1] - y[k, 1])^2\n",
    "        end\n",
    "\n",
    "        for j in 2:ncol\n",
    "            for i in axes(x, 1)\n",
    "                target[i, k] += (x[i, j] - y[k, j])^2\n",
    "            end\n",
    "        end\n",
    "        \n",
    "    end\n",
    "    target\n",
    "end"
   ]
  },
  {
   "cell_type": "code",
   "execution_count": null,
   "metadata": {},
   "outputs": [],
   "source": []
  },
  {
   "cell_type": "markdown",
   "metadata": {},
   "source": [
    "## Main Clustering function"
   ]
  },
  {
   "cell_type": "code",
   "execution_count": 7,
   "metadata": {
    "ExecuteTime": {
     "end_time": "2020-02-17T15:25:50.858000+01:00",
     "start_time": "2020-02-17T14:25:23.884Z"
    }
   },
   "outputs": [
    {
     "data": {
      "text/plain": [
       "Kmeans"
      ]
     },
     "execution_count": 7,
     "metadata": {},
     "output_type": "execute_result"
    }
   ],
   "source": [
    "\"\"\"\n",
    "    Kmeans(design_matrix, k; k_init=\"k-means++\", max_iters=300, tol=1e-4, verbose=true)\n",
    "    This main function employs the K-means algorithm to cluster all examples\n",
    "    in the training data (design_matrix) into k groups using either the\n",
    "    `k-means++` or random initialisation.\n",
    "\"\"\"\n",
    "function Kmeans(design_matrix::Array{Float64, 2}, k::Int64; k_init::String=\"k-means++\",\n",
    "    max_iters::Int64=300, tol=1e-4, verbose::Bool=true)\n",
    "    \n",
    "    centroids, n_row, n_col = smart_init(design_matrix, k, init=k_init)\n",
    "\n",
    "\n",
    "    labels = Vector{Int}(undef, n_row)\n",
    "    distances = Vector{Float64}(undef, n_row)\n",
    "    centroids_cnt = Vector{Int}(undef, size(centroids, 1))\n",
    "\n",
    "    J_previous = Inf64\n",
    "\n",
    "    nearest_neighbour = Array{Float64, 2}(undef, size(design_matrix, 1), size(centroids, 1))\n",
    "    \n",
    "    # Update centroids & labels with closest members until convergence\n",
    "    for iter = 1:max_iters\n",
    "\n",
    "        pairwise2!(nearest_neighbour, design_matrix, centroids)\n",
    "\n",
    "        @inbounds for i in axes(nearest_neighbour, 1)\n",
    "            labels[i] = 1\n",
    "            distances[i] = nearest_neighbour[i, 1]\n",
    "            \n",
    "            for j in 2:size(nearest_neighbour, 2)\n",
    "                if distances[i] > nearest_neighbour[i, j]\n",
    "                    labels[i] = j\n",
    "                    distances[i] = nearest_neighbour[i, j]\n",
    "                end\n",
    "            end\n",
    "        end\n",
    "\n",
    "        centroids .= 0.0\n",
    "        centroids_cnt .= 0\n",
    "        \n",
    "        @inbounds for i in axes(design_matrix, 1)\n",
    "            centroids[labels[i], 1] += design_matrix[i, 1]\n",
    "            centroids_cnt[labels[i]] += 1\n",
    "        end\n",
    "        \n",
    "        @inbounds for j in 2:n_col\n",
    "            for i in axes(design_matrix, 1)\n",
    "                centroids[labels[i], j] += design_matrix[i, j]\n",
    "            end\n",
    "        end\n",
    "        \n",
    "        centroids ./= centroids_cnt\n",
    "\n",
    "        # Cost objective\n",
    "        J = mean(distances)\n",
    "\n",
    "        if verbose\n",
    "            # Show progress and terminate if J stopped decreasing.\n",
    "            println(\"Iteration \", iter, \": Jclust = \", J, \".\")\n",
    "        end;\n",
    "\n",
    "        # Final Step: Check for convergence\n",
    "        if iter > 1 && abs(J - J_previous) < (tol * J)\n",
    "\n",
    "            sum_squares = sum_of_squares(design_matrix, labels, centroids)\n",
    "\n",
    "            # Terminate algorithm with the assumption that K-means has converged\n",
    "            if verbose\n",
    "                println(\"Successfully terminated with convergence.\")\n",
    "            end\n",
    "\n",
    "            return labels, centroids, sum_squares\n",
    "\n",
    "        elseif iter == max_iters && abs(J - J_previous) > (tol * J)\n",
    "            throw(error(\"Failed to converge Check data and/or implementation or increase max_iter.\"))\n",
    "\n",
    "        end;\n",
    "\n",
    "        J_previous = J\n",
    "    end\n",
    "end"
   ]
  },
  {
   "cell_type": "code",
   "execution_count": null,
   "metadata": {},
   "outputs": [],
   "source": []
  },
  {
   "cell_type": "code",
   "execution_count": null,
   "metadata": {},
   "outputs": [],
   "source": []
  },
  {
   "cell_type": "markdown",
   "metadata": {},
   "source": [
    "# Test Speed"
   ]
  },
  {
   "cell_type": "code",
   "execution_count": 8,
   "metadata": {
    "ExecuteTime": {
     "end_time": "2020-02-17T15:25:51.700000+01:00",
     "start_time": "2020-02-17T14:25:23.895Z"
    }
   },
   "outputs": [
    {
     "data": {
      "text/plain": [
       "9-element Array{Int64,1}:\n",
       "  2\n",
       "  3\n",
       "  4\n",
       "  5\n",
       "  6\n",
       "  7\n",
       "  8\n",
       "  9\n",
       " 10"
      ]
     },
     "execution_count": 8,
     "metadata": {},
     "output_type": "execute_result"
    }
   ],
   "source": [
    "[i for i = 2:10]"
   ]
  },
  {
   "cell_type": "code",
   "execution_count": null,
   "metadata": {},
   "outputs": [],
   "source": []
  },
  {
   "cell_type": "code",
   "execution_count": 9,
   "metadata": {
    "ExecuteTime": {
     "end_time": "2020-02-17T15:25:51.739000+01:00",
     "start_time": "2020-02-17T14:25:23.900Z"
    }
   },
   "outputs": [
    {
     "data": {
      "text/plain": [
       "test_speed"
      ]
     },
     "execution_count": 9,
     "metadata": {},
     "output_type": "execute_result"
    }
   ],
   "source": [
    "\"\"\"\n",
    "    Just a convenient function to select the number of cluster groups based \n",
    "    on the elbow method. Requries testing 2 to 10 k ranges.\n",
    "\"\"\"\n",
    "function test_speed(x)\n",
    "    for i = 2:10\n",
    "        l, c, s = Kmeans(x, i, k_init=\"k-means++\", verbose=false)\n",
    "    end\n",
    "end"
   ]
  },
  {
   "cell_type": "code",
   "execution_count": null,
   "metadata": {},
   "outputs": [],
   "source": []
  },
  {
   "cell_type": "code",
   "execution_count": 10,
   "metadata": {
    "ExecuteTime": {
     "end_time": "2020-02-17T15:32:27.300000+01:00",
     "start_time": "2020-02-17T14:25:23.904Z"
    }
   },
   "outputs": [
    {
     "data": {
      "text/plain": [
       "BenchmarkTools.Trial: \n",
       "  memory estimate:  686.67 MiB\n",
       "  allocs estimate:  443\n",
       "  --------------\n",
       "  minimum time:     3.665 s (0.57% GC)\n",
       "  median time:      4.200 s (0.56% GC)\n",
       "  mean time:        4.132 s (1.15% GC)\n",
       "  maximum time:     4.337 s (0.54% GC)\n",
       "  --------------\n",
       "  samples:          7\n",
       "  evals/sample:     1"
      ]
     },
     "execution_count": 10,
     "metadata": {},
     "output_type": "execute_result"
    }
   ],
   "source": [
    "r = @benchmark test_speed(X) samples=7 seconds=300"
   ]
  },
  {
   "cell_type": "code",
   "execution_count": null,
   "metadata": {},
   "outputs": [],
   "source": []
  },
  {
   "cell_type": "code",
   "execution_count": null,
   "metadata": {},
   "outputs": [],
   "source": []
  },
  {
   "cell_type": "markdown",
   "metadata": {},
   "source": [
    "# Final Output"
   ]
  },
  {
   "cell_type": "code",
   "execution_count": 11,
   "metadata": {
    "ExecuteTime": {
     "end_time": "2020-02-17T15:32:31.202000+01:00",
     "start_time": "2020-02-17T14:25:23.911Z"
    }
   },
   "outputs": [],
   "source": [
    "begin\n",
    "    num = []  # Store number of iterations\n",
    "    ss = []  # Store the sum of squares at each iteration\n",
    "    \n",
    "    for i = 2:10\n",
    "        l, c, s = Kmeans(X, i, k_init=\"k-means++\", verbose=false)\n",
    "        push!(num, i)\n",
    "        push!(ss, s)\n",
    "    end\n",
    "end"
   ]
  },
  {
   "cell_type": "code",
   "execution_count": null,
   "metadata": {},
   "outputs": [],
   "source": []
  },
  {
   "cell_type": "code",
   "execution_count": 12,
   "metadata": {
    "ExecuteTime": {
     "end_time": "2020-02-17T15:32:51.682000+01:00",
     "start_time": "2020-02-17T14:25:23.916Z"
    }
   },
   "outputs": [
    {
     "data": {
      "image/svg+xml": [
       "<?xml version=\"1.0\" encoding=\"utf-8\"?>\n",
       "<svg xmlns=\"http://www.w3.org/2000/svg\" xmlns:xlink=\"http://www.w3.org/1999/xlink\" width=\"600\" height=\"400\" viewBox=\"0 0 2400 1600\">\n",
       "<defs>\n",
       "  <clipPath id=\"clip3700\">\n",
       "    <rect x=\"0\" y=\"0\" width=\"2400\" height=\"1600\"/>\n",
       "  </clipPath>\n",
       "</defs>\n",
       "<path clip-path=\"url(#clip3700)\" d=\"\n",
       "M0 1600 L2400 1600 L2400 0 L0 0  Z\n",
       "  \" fill=\"#ffffff\" fill-rule=\"evenodd\" fill-opacity=\"1\"/>\n",
       "<defs>\n",
       "  <clipPath id=\"clip3701\">\n",
       "    <rect x=\"480\" y=\"0\" width=\"1681\" height=\"1600\"/>\n",
       "  </clipPath>\n",
       "</defs>\n",
       "<path clip-path=\"url(#clip3700)\" d=\"\n",
       "M389.035 1425.62 L2352.76 1425.62 L2352.76 121.675 L389.035 121.675  Z\n",
       "  \" fill=\"#ffffff\" fill-rule=\"evenodd\" fill-opacity=\"1\"/>\n",
       "<defs>\n",
       "  <clipPath id=\"clip3702\">\n",
       "    <rect x=\"389\" y=\"121\" width=\"1965\" height=\"1305\"/>\n",
       "  </clipPath>\n",
       "</defs>\n",
       "<polyline clip-path=\"url(#clip3702)\" style=\"stroke:#000000; stroke-width:2; stroke-opacity:0.1; fill:none\" points=\"\n",
       "  444.612,1425.62 444.612,121.675 \n",
       "  \"/>\n",
       "<polyline clip-path=\"url(#clip3702)\" style=\"stroke:#000000; stroke-width:2; stroke-opacity:0.1; fill:none\" points=\"\n",
       "  907.754,1425.62 907.754,121.675 \n",
       "  \"/>\n",
       "<polyline clip-path=\"url(#clip3702)\" style=\"stroke:#000000; stroke-width:2; stroke-opacity:0.1; fill:none\" points=\"\n",
       "  1370.9,1425.62 1370.9,121.675 \n",
       "  \"/>\n",
       "<polyline clip-path=\"url(#clip3702)\" style=\"stroke:#000000; stroke-width:2; stroke-opacity:0.1; fill:none\" points=\"\n",
       "  1834.04,1425.62 1834.04,121.675 \n",
       "  \"/>\n",
       "<polyline clip-path=\"url(#clip3702)\" style=\"stroke:#000000; stroke-width:2; stroke-opacity:0.1; fill:none\" points=\"\n",
       "  2297.18,1425.62 2297.18,121.675 \n",
       "  \"/>\n",
       "<polyline clip-path=\"url(#clip3702)\" style=\"stroke:#000000; stroke-width:2; stroke-opacity:0.1; fill:none\" points=\"\n",
       "  389.035,1327.41 2352.76,1327.41 \n",
       "  \"/>\n",
       "<polyline clip-path=\"url(#clip3702)\" style=\"stroke:#000000; stroke-width:2; stroke-opacity:0.1; fill:none\" points=\"\n",
       "  389.035,1143.38 2352.76,1143.38 \n",
       "  \"/>\n",
       "<polyline clip-path=\"url(#clip3702)\" style=\"stroke:#000000; stroke-width:2; stroke-opacity:0.1; fill:none\" points=\"\n",
       "  389.035,959.344 2352.76,959.344 \n",
       "  \"/>\n",
       "<polyline clip-path=\"url(#clip3702)\" style=\"stroke:#000000; stroke-width:2; stroke-opacity:0.1; fill:none\" points=\"\n",
       "  389.035,775.309 2352.76,775.309 \n",
       "  \"/>\n",
       "<polyline clip-path=\"url(#clip3702)\" style=\"stroke:#000000; stroke-width:2; stroke-opacity:0.1; fill:none\" points=\"\n",
       "  389.035,591.275 2352.76,591.275 \n",
       "  \"/>\n",
       "<polyline clip-path=\"url(#clip3702)\" style=\"stroke:#000000; stroke-width:2; stroke-opacity:0.1; fill:none\" points=\"\n",
       "  389.035,407.24 2352.76,407.24 \n",
       "  \"/>\n",
       "<polyline clip-path=\"url(#clip3702)\" style=\"stroke:#000000; stroke-width:2; stroke-opacity:0.1; fill:none\" points=\"\n",
       "  389.035,223.206 2352.76,223.206 \n",
       "  \"/>\n",
       "<polyline clip-path=\"url(#clip3700)\" style=\"stroke:#000000; stroke-width:4; stroke-opacity:1; fill:none\" points=\"\n",
       "  389.035,1425.62 2352.76,1425.62 \n",
       "  \"/>\n",
       "<polyline clip-path=\"url(#clip3700)\" style=\"stroke:#000000; stroke-width:4; stroke-opacity:1; fill:none\" points=\"\n",
       "  389.035,1425.62 389.035,121.675 \n",
       "  \"/>\n",
       "<polyline clip-path=\"url(#clip3700)\" style=\"stroke:#000000; stroke-width:4; stroke-opacity:1; fill:none\" points=\"\n",
       "  444.612,1425.62 444.612,1409.97 \n",
       "  \"/>\n",
       "<polyline clip-path=\"url(#clip3700)\" style=\"stroke:#000000; stroke-width:4; stroke-opacity:1; fill:none\" points=\"\n",
       "  907.754,1425.62 907.754,1409.97 \n",
       "  \"/>\n",
       "<polyline clip-path=\"url(#clip3700)\" style=\"stroke:#000000; stroke-width:4; stroke-opacity:1; fill:none\" points=\"\n",
       "  1370.9,1425.62 1370.9,1409.97 \n",
       "  \"/>\n",
       "<polyline clip-path=\"url(#clip3700)\" style=\"stroke:#000000; stroke-width:4; stroke-opacity:1; fill:none\" points=\"\n",
       "  1834.04,1425.62 1834.04,1409.97 \n",
       "  \"/>\n",
       "<polyline clip-path=\"url(#clip3700)\" style=\"stroke:#000000; stroke-width:4; stroke-opacity:1; fill:none\" points=\"\n",
       "  2297.18,1425.62 2297.18,1409.97 \n",
       "  \"/>\n",
       "<polyline clip-path=\"url(#clip3700)\" style=\"stroke:#000000; stroke-width:4; stroke-opacity:1; fill:none\" points=\"\n",
       "  389.035,1327.41 412.6,1327.41 \n",
       "  \"/>\n",
       "<polyline clip-path=\"url(#clip3700)\" style=\"stroke:#000000; stroke-width:4; stroke-opacity:1; fill:none\" points=\"\n",
       "  389.035,1143.38 412.6,1143.38 \n",
       "  \"/>\n",
       "<polyline clip-path=\"url(#clip3700)\" style=\"stroke:#000000; stroke-width:4; stroke-opacity:1; fill:none\" points=\"\n",
       "  389.035,959.344 412.6,959.344 \n",
       "  \"/>\n",
       "<polyline clip-path=\"url(#clip3700)\" style=\"stroke:#000000; stroke-width:4; stroke-opacity:1; fill:none\" points=\"\n",
       "  389.035,775.309 412.6,775.309 \n",
       "  \"/>\n",
       "<polyline clip-path=\"url(#clip3700)\" style=\"stroke:#000000; stroke-width:4; stroke-opacity:1; fill:none\" points=\"\n",
       "  389.035,591.275 412.6,591.275 \n",
       "  \"/>\n",
       "<polyline clip-path=\"url(#clip3700)\" style=\"stroke:#000000; stroke-width:4; stroke-opacity:1; fill:none\" points=\"\n",
       "  389.035,407.24 412.6,407.24 \n",
       "  \"/>\n",
       "<polyline clip-path=\"url(#clip3700)\" style=\"stroke:#000000; stroke-width:4; stroke-opacity:1; fill:none\" points=\"\n",
       "  389.035,223.206 412.6,223.206 \n",
       "  \"/>\n",
       "<g clip-path=\"url(#clip3700)\">\n",
       "<text style=\"fill:#000000; fill-opacity:1; font-family:Arial,Helvetica Neue,Helvetica,sans-serif; font-size:48px; text-anchor:middle;\" transform=\"rotate(0, 444.612, 1479.62)\" x=\"444.612\" y=\"1479.62\">2</text>\n",
       "</g>\n",
       "<g clip-path=\"url(#clip3700)\">\n",
       "<text style=\"fill:#000000; fill-opacity:1; font-family:Arial,Helvetica Neue,Helvetica,sans-serif; font-size:48px; text-anchor:middle;\" transform=\"rotate(0, 907.754, 1479.62)\" x=\"907.754\" y=\"1479.62\">4</text>\n",
       "</g>\n",
       "<g clip-path=\"url(#clip3700)\">\n",
       "<text style=\"fill:#000000; fill-opacity:1; font-family:Arial,Helvetica Neue,Helvetica,sans-serif; font-size:48px; text-anchor:middle;\" transform=\"rotate(0, 1370.9, 1479.62)\" x=\"1370.9\" y=\"1479.62\">6</text>\n",
       "</g>\n",
       "<g clip-path=\"url(#clip3700)\">\n",
       "<text style=\"fill:#000000; fill-opacity:1; font-family:Arial,Helvetica Neue,Helvetica,sans-serif; font-size:48px; text-anchor:middle;\" transform=\"rotate(0, 1834.04, 1479.62)\" x=\"1834.04\" y=\"1479.62\">8</text>\n",
       "</g>\n",
       "<g clip-path=\"url(#clip3700)\">\n",
       "<text style=\"fill:#000000; fill-opacity:1; font-family:Arial,Helvetica Neue,Helvetica,sans-serif; font-size:48px; text-anchor:middle;\" transform=\"rotate(0, 2297.18, 1479.62)\" x=\"2297.18\" y=\"1479.62\">10</text>\n",
       "</g>\n",
       "<g clip-path=\"url(#clip3700)\">\n",
       "<text style=\"fill:#000000; fill-opacity:1; font-family:Arial,Helvetica Neue,Helvetica,sans-serif; font-size:48px; text-anchor:start;\" transform=\"rotate(0, 167.988, 1351.14)\" x=\"167.988\" y=\"1351.14\">2.50×10</text>\n",
       "</g>\n",
       "<g clip-path=\"url(#clip3700)\">\n",
       "<text style=\"fill:#000000; fill-opacity:1; font-family:Arial,Helvetica Neue,Helvetica,sans-serif; font-size:38px; text-anchor:start;\" transform=\"rotate(0, 343.291, 1323.73)\" x=\"343.291\" y=\"1323.73\">6</text>\n",
       "</g>\n",
       "<g clip-path=\"url(#clip3700)\">\n",
       "<text style=\"fill:#000000; fill-opacity:1; font-family:Arial,Helvetica Neue,Helvetica,sans-serif; font-size:48px; text-anchor:start;\" transform=\"rotate(0, 167.988, 1167.11)\" x=\"167.988\" y=\"1167.11\">5.00×10</text>\n",
       "</g>\n",
       "<g clip-path=\"url(#clip3700)\">\n",
       "<text style=\"fill:#000000; fill-opacity:1; font-family:Arial,Helvetica Neue,Helvetica,sans-serif; font-size:38px; text-anchor:start;\" transform=\"rotate(0, 343.291, 1139.7)\" x=\"343.291\" y=\"1139.7\">6</text>\n",
       "</g>\n",
       "<g clip-path=\"url(#clip3700)\">\n",
       "<text style=\"fill:#000000; fill-opacity:1; font-family:Arial,Helvetica Neue,Helvetica,sans-serif; font-size:48px; text-anchor:start;\" transform=\"rotate(0, 167.988, 983.071)\" x=\"167.988\" y=\"983.071\">7.50×10</text>\n",
       "</g>\n",
       "<g clip-path=\"url(#clip3700)\">\n",
       "<text style=\"fill:#000000; fill-opacity:1; font-family:Arial,Helvetica Neue,Helvetica,sans-serif; font-size:38px; text-anchor:start;\" transform=\"rotate(0, 343.291, 955.661)\" x=\"343.291\" y=\"955.661\">6</text>\n",
       "</g>\n",
       "<g clip-path=\"url(#clip3700)\">\n",
       "<text style=\"fill:#000000; fill-opacity:1; font-family:Arial,Helvetica Neue,Helvetica,sans-serif; font-size:48px; text-anchor:start;\" transform=\"rotate(0, 167.988, 799.037)\" x=\"167.988\" y=\"799.037\">1.00×10</text>\n",
       "</g>\n",
       "<g clip-path=\"url(#clip3700)\">\n",
       "<text style=\"fill:#000000; fill-opacity:1; font-family:Arial,Helvetica Neue,Helvetica,sans-serif; font-size:38px; text-anchor:start;\" transform=\"rotate(0, 343.291, 771.626)\" x=\"343.291\" y=\"771.626\">7</text>\n",
       "</g>\n",
       "<g clip-path=\"url(#clip3700)\">\n",
       "<text style=\"fill:#000000; fill-opacity:1; font-family:Arial,Helvetica Neue,Helvetica,sans-serif; font-size:48px; text-anchor:start;\" transform=\"rotate(0, 167.988, 615.002)\" x=\"167.988\" y=\"615.002\">1.25×10</text>\n",
       "</g>\n",
       "<g clip-path=\"url(#clip3700)\">\n",
       "<text style=\"fill:#000000; fill-opacity:1; font-family:Arial,Helvetica Neue,Helvetica,sans-serif; font-size:38px; text-anchor:start;\" transform=\"rotate(0, 343.291, 587.592)\" x=\"343.291\" y=\"587.592\">7</text>\n",
       "</g>\n",
       "<g clip-path=\"url(#clip3700)\">\n",
       "<text style=\"fill:#000000; fill-opacity:1; font-family:Arial,Helvetica Neue,Helvetica,sans-serif; font-size:48px; text-anchor:start;\" transform=\"rotate(0, 167.988, 430.968)\" x=\"167.988\" y=\"430.968\">1.50×10</text>\n",
       "</g>\n",
       "<g clip-path=\"url(#clip3700)\">\n",
       "<text style=\"fill:#000000; fill-opacity:1; font-family:Arial,Helvetica Neue,Helvetica,sans-serif; font-size:38px; text-anchor:start;\" transform=\"rotate(0, 343.291, 403.557)\" x=\"343.291\" y=\"403.557\">7</text>\n",
       "</g>\n",
       "<g clip-path=\"url(#clip3700)\">\n",
       "<text style=\"fill:#000000; fill-opacity:1; font-family:Arial,Helvetica Neue,Helvetica,sans-serif; font-size:48px; text-anchor:start;\" transform=\"rotate(0, 167.988, 246.933)\" x=\"167.988\" y=\"246.933\">1.75×10</text>\n",
       "</g>\n",
       "<g clip-path=\"url(#clip3700)\">\n",
       "<text style=\"fill:#000000; fill-opacity:1; font-family:Arial,Helvetica Neue,Helvetica,sans-serif; font-size:38px; text-anchor:start;\" transform=\"rotate(0, 343.291, 219.523)\" x=\"343.291\" y=\"219.523\">7</text>\n",
       "</g>\n",
       "<g clip-path=\"url(#clip3700)\">\n",
       "<text style=\"fill:#000000; fill-opacity:1; font-family:Arial,Helvetica Neue,Helvetica,sans-serif; font-size:84px; text-anchor:middle;\" transform=\"rotate(0, 1370.9, 73.2)\" x=\"1370.9\" y=\"73.2\">Test For Heterogeneity Per Iteration</text>\n",
       "</g>\n",
       "<g clip-path=\"url(#clip3700)\">\n",
       "<text style=\"fill:#000000; fill-opacity:1; font-family:Arial,Helvetica Neue,Helvetica,sans-serif; font-size:66px; text-anchor:middle;\" transform=\"rotate(0, 1370.9, 1559.48)\" x=\"1370.9\" y=\"1559.48\">Number of Iterations</text>\n",
       "</g>\n",
       "<g clip-path=\"url(#clip3700)\">\n",
       "<text style=\"fill:#000000; fill-opacity:1; font-family:Arial,Helvetica Neue,Helvetica,sans-serif; font-size:66px; text-anchor:middle;\" transform=\"rotate(-90, 89.2861, 773.647)\" x=\"89.2861\" y=\"773.647\">Sum of Squares</text>\n",
       "</g>\n",
       "<polyline clip-path=\"url(#clip3702)\" style=\"stroke:#009af9; stroke-width:4; stroke-opacity:1; fill:none\" points=\"\n",
       "  444.612,158.579 676.183,1332.63 907.754,1345.32 1139.32,1357.9 1370.9,1360.69 1602.47,1373.31 1834.04,1387.99 2065.61,1388.71 2297.18,1381.8 \n",
       "  \"/>\n",
       "<circle clip-path=\"url(#clip3702)\" cx=\"444.612\" cy=\"158.579\" r=\"14\" fill=\"#ff0000\" fill-rule=\"evenodd\" fill-opacity=\"1\" stroke=\"#000000\" stroke-opacity=\"1\" stroke-width=\"3.2\"/>\n",
       "<circle clip-path=\"url(#clip3702)\" cx=\"676.183\" cy=\"1332.63\" r=\"14\" fill=\"#ff0000\" fill-rule=\"evenodd\" fill-opacity=\"1\" stroke=\"#000000\" stroke-opacity=\"1\" stroke-width=\"3.2\"/>\n",
       "<circle clip-path=\"url(#clip3702)\" cx=\"907.754\" cy=\"1345.32\" r=\"14\" fill=\"#ff0000\" fill-rule=\"evenodd\" fill-opacity=\"1\" stroke=\"#000000\" stroke-opacity=\"1\" stroke-width=\"3.2\"/>\n",
       "<circle clip-path=\"url(#clip3702)\" cx=\"1139.32\" cy=\"1357.9\" r=\"14\" fill=\"#ff0000\" fill-rule=\"evenodd\" fill-opacity=\"1\" stroke=\"#000000\" stroke-opacity=\"1\" stroke-width=\"3.2\"/>\n",
       "<circle clip-path=\"url(#clip3702)\" cx=\"1370.9\" cy=\"1360.69\" r=\"14\" fill=\"#ff0000\" fill-rule=\"evenodd\" fill-opacity=\"1\" stroke=\"#000000\" stroke-opacity=\"1\" stroke-width=\"3.2\"/>\n",
       "<circle clip-path=\"url(#clip3702)\" cx=\"1602.47\" cy=\"1373.31\" r=\"14\" fill=\"#ff0000\" fill-rule=\"evenodd\" fill-opacity=\"1\" stroke=\"#000000\" stroke-opacity=\"1\" stroke-width=\"3.2\"/>\n",
       "<circle clip-path=\"url(#clip3702)\" cx=\"1834.04\" cy=\"1387.99\" r=\"14\" fill=\"#ff0000\" fill-rule=\"evenodd\" fill-opacity=\"1\" stroke=\"#000000\" stroke-opacity=\"1\" stroke-width=\"3.2\"/>\n",
       "<circle clip-path=\"url(#clip3702)\" cx=\"2065.61\" cy=\"1388.71\" r=\"14\" fill=\"#ff0000\" fill-rule=\"evenodd\" fill-opacity=\"1\" stroke=\"#000000\" stroke-opacity=\"1\" stroke-width=\"3.2\"/>\n",
       "<circle clip-path=\"url(#clip3702)\" cx=\"2297.18\" cy=\"1381.8\" r=\"14\" fill=\"#ff0000\" fill-rule=\"evenodd\" fill-opacity=\"1\" stroke=\"#000000\" stroke-opacity=\"1\" stroke-width=\"3.2\"/>\n",
       "</svg>\n"
      ]
     },
     "execution_count": 12,
     "metadata": {},
     "output_type": "execute_result"
    }
   ],
   "source": [
    "plot(num, ss, ylabel=\"Sum of Squares\", xlabel=\"Number of Iterations\",\n",
    "     title = \"Test For Heterogeneity Per Iteration\", legend=false)\n",
    "\n",
    "scatter!(num, ss, color=\"red\")"
   ]
  },
  {
   "cell_type": "code",
   "execution_count": null,
   "metadata": {},
   "outputs": [],
   "source": []
  }
 ],
 "metadata": {
  "kernelspec": {
   "display_name": "Julia 1.3.1",
   "language": "julia",
   "name": "julia-1.3"
  },
  "language_info": {
   "file_extension": ".jl",
   "mimetype": "application/julia",
   "name": "julia",
   "version": "1.3.1"
  },
  "toc": {
   "base_numbering": 1,
   "nav_menu": {},
   "number_sections": true,
   "sideBar": true,
   "skip_h1_title": false,
   "title_cell": "Table of Contents",
   "title_sidebar": "Contents",
   "toc_cell": false,
   "toc_position": {},
   "toc_section_display": true,
   "toc_window_display": true
  },
  "varInspector": {
   "cols": {
    "lenName": 16,
    "lenType": 16,
    "lenVar": 40
   },
   "kernels_config": {
    "python": {
     "delete_cmd_postfix": "",
     "delete_cmd_prefix": "del ",
     "library": "var_list.py",
     "varRefreshCmd": "print(var_dic_list())"
    },
    "r": {
     "delete_cmd_postfix": ") ",
     "delete_cmd_prefix": "rm(",
     "library": "var_list.r",
     "varRefreshCmd": "cat(var_dic_list()) "
    }
   },
   "types_to_exclude": [
    "module",
    "function",
    "builtin_function_or_method",
    "instance",
    "_Feature"
   ],
   "window_display": false
  }
 },
 "nbformat": 4,
 "nbformat_minor": 4
}
