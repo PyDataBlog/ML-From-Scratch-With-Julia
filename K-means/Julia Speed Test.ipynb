{
 "cells": [
  {
   "cell_type": "markdown",
   "metadata": {},
   "source": [
    "# Load Packages"
   ]
  },
  {
   "cell_type": "code",
   "execution_count": 1,
   "metadata": {
    "ExecuteTime": {
     "end_time": "2020-02-17T13:17:24.675000+01:00",
     "start_time": "2020-02-17T12:17:04.018Z"
    }
   },
   "outputs": [
    {
     "name": "stdout",
     "output_type": "stream",
     "text": [
      "\u001b[32m\u001b[1m  Building\u001b[22m\u001b[39m Conda ─→ `~/.julia/packages/Conda/3rPhK/deps/build.log`\n",
      "\u001b[32m\u001b[1m  Building\u001b[22m\u001b[39m PyCall → `~/.julia/packages/PyCall/kAhnQ/deps/build.log`\n"
     ]
    }
   ],
   "source": [
    "using Pkg\n",
    "\n",
    "# Replace python environment to suit your needs\n",
    "ENV[\"PYTHON\"] = \"/home/mysterio/miniconda3/envs/pydata/bin/python\"\n",
    "Pkg.build(\"PyCall\")  # Build PyCall to suit the specified Python env\n",
    "\n",
    "using PyCall\n",
    "using Plots\n",
    "using LinearAlgebra\n",
    "using Statistics\n",
    "using StatsBase\n",
    "using BenchmarkTools\n",
    "using Distances"
   ]
  },
  {
   "cell_type": "code",
   "execution_count": null,
   "metadata": {},
   "outputs": [],
   "source": []
  },
  {
   "cell_type": "code",
   "execution_count": 2,
   "metadata": {
    "ExecuteTime": {
     "end_time": "2020-02-17T13:17:31.049000+01:00",
     "start_time": "2020-02-17T12:17:04.056Z"
    }
   },
   "outputs": [],
   "source": [
    "# import sklearn datasets\n",
    "data = pyimport(\"sklearn.datasets\")\n",
    "\n",
    "X, y = data.make_blobs(n_samples=1000000, n_features=3, \n",
    "                       centers=3, cluster_std=0.9, random_state=80);"
   ]
  },
  {
   "cell_type": "code",
   "execution_count": 3,
   "metadata": {
    "ExecuteTime": {
     "end_time": "2020-02-17T13:17:31.845000+01:00",
     "start_time": "2020-02-17T12:17:04.072Z"
    }
   },
   "outputs": [
    {
     "data": {
      "text/plain": [
       "(1000000, 3)"
      ]
     },
     "execution_count": 3,
     "metadata": {},
     "output_type": "execute_result"
    }
   ],
   "source": [
    "size(X)"
   ]
  },
  {
   "cell_type": "code",
   "execution_count": null,
   "metadata": {},
   "outputs": [],
   "source": []
  },
  {
   "cell_type": "markdown",
   "metadata": {},
   "source": [
    "# Main Functions"
   ]
  },
  {
   "cell_type": "markdown",
   "metadata": {},
   "source": [
    "## Smart Random Initialisation "
   ]
  },
  {
   "cell_type": "code",
   "execution_count": 4,
   "metadata": {
    "ExecuteTime": {
     "end_time": "2020-02-17T13:17:32.417000+01:00",
     "start_time": "2020-02-17T12:17:04.087Z"
    }
   },
   "outputs": [
    {
     "data": {
      "text/plain": [
       "smart_init"
      ]
     },
     "execution_count": 4,
     "metadata": {},
     "output_type": "execute_result"
    }
   ],
   "source": [
    "\"\"\" \n",
    "    smart_init(X, k; init=\"k-means++\")\n",
    "\n",
    "    This function handles the random initialisation of the centroids from the\n",
    "    design matrix (X) and desired groups (k) that a user supplies. \n",
    "    \n",
    "    `k-means++` algorithm is used by default with the normal random selection\n",
    "    of centroids from X used if any other string is attempted. \n",
    "    \n",
    "    A tuple representing the centroids, number of rows, & columns respecitively\n",
    "    is returned.\n",
    "\"\"\"\n",
    "function smart_init(X::Array{Float64, 2}, k::Int; init::String=\"k-means++\")\n",
    "    n_row, n_col = size(X)\n",
    "\n",
    "    if init == \"k-means++\"\n",
    "        \n",
    "        # randonmly select the first centroid from the data (X)\n",
    "        centroids = zeros(k, n_col)\n",
    "        rand_idx = rand(1:n_row)\n",
    "        centroids[1, :] = X[rand_idx, :]\n",
    "\n",
    "        # compute distances from the first centroid chosen to all the other data points\n",
    "        first_centroid_matrix = convert(Matrix, centroids[1, :]')\n",
    "        \n",
    "        # flatten distances\n",
    "        distances = vec(pairwise(Euclidean(), X, first_centroid_matrix, dims = 1))\n",
    "\n",
    "        for i = 2:k\n",
    "            # choose the next centroid, the probability for each data point to be chosen\n",
    "            # is directly proportional to its squared distance from the nearest centroid\n",
    "            prob = distances .^ 2\n",
    "            r_idx = sample(1:n_row, ProbabilityWeights(prob))\n",
    "            centroids[i, :] = X[r_idx, :]\n",
    "            \n",
    "            # Ignore setting the last centroid to help the separation of centroids\n",
    "            if i == (k-1)\n",
    "                break\n",
    "            end\n",
    "\n",
    "            # compute distances from the centroids to all data points\n",
    "            current_centroid_matrix = convert(Matrix, centroids[i, :]')\n",
    "            new_distances = vec(pairwise(Euclidean(), X, current_centroid_matrix, dims = 1))\n",
    "            \n",
    "            # and update the squared distance as the minimum distance to all centroid\n",
    "            distances = minimum([distances, new_distances])\n",
    "\n",
    "        end\n",
    "\n",
    "    else\n",
    "        # randomly select points from the design matrix as the initial centroids\n",
    "        rand_indices = rand(1:n_row, k)\n",
    "        centroids = X[rand_indices, :]\n",
    "\n",
    "    end\n",
    "\n",
    "    return centroids, n_row, n_col\n",
    "end"
   ]
  },
  {
   "cell_type": "code",
   "execution_count": null,
   "metadata": {},
   "outputs": [],
   "source": []
  },
  {
   "cell_type": "code",
   "execution_count": null,
   "metadata": {},
   "outputs": [],
   "source": []
  },
  {
   "cell_type": "markdown",
   "metadata": {},
   "source": [
    "## Inertia between centroids and points"
   ]
  },
  {
   "cell_type": "code",
   "execution_count": 5,
   "metadata": {
    "ExecuteTime": {
     "end_time": "2020-02-17T13:17:32.422000+01:00",
     "start_time": "2020-02-17T12:17:04.097Z"
    }
   },
   "outputs": [
    {
     "data": {
      "text/plain": [
       "sum_of_squares"
      ]
     },
     "execution_count": 5,
     "metadata": {},
     "output_type": "execute_result"
    }
   ],
   "source": [
    "\"\"\" \n",
    "    sum_of_squares(x, labels, centre, k)\n",
    "    \n",
    "    This function computes the total sum of squares based on the assigned (labels)\n",
    "    design matrix(x), centroids (centre), and the number of desired groups (k).\n",
    "\n",
    "    A Float type representing the computed metric is returned. \n",
    "\"\"\"\n",
    "function sum_of_squares(x::Array{Float64,2}, labels::Array{Int64,1}, centre::Array, k::Int)\n",
    "    ss = 0\n",
    "\n",
    "    for j = 1:k\n",
    "        group_data = x[findall(labels .== j), :]\n",
    "        group_centroid_matrix  = convert(Matrix, centre[j, :]')\n",
    "        group_distance = pairwise(Euclidean(), group_data, group_centroid_matrix, dims=1)\n",
    "\n",
    "        ss += sum(group_distance .^ 2)\n",
    "    end\n",
    "\n",
    "    return ss\n",
    "end"
   ]
  },
  {
   "cell_type": "code",
   "execution_count": null,
   "metadata": {},
   "outputs": [],
   "source": []
  },
  {
   "cell_type": "code",
   "execution_count": null,
   "metadata": {},
   "outputs": [],
   "source": []
  },
  {
   "cell_type": "markdown",
   "metadata": {},
   "source": [
    "## Main Clustering function"
   ]
  },
  {
   "cell_type": "code",
   "execution_count": 6,
   "metadata": {
    "ExecuteTime": {
     "end_time": "2020-02-17T13:17:32.494000+01:00",
     "start_time": "2020-02-17T12:17:04.107Z"
    }
   },
   "outputs": [
    {
     "data": {
      "text/plain": [
       "Kmeans"
      ]
     },
     "execution_count": 6,
     "metadata": {},
     "output_type": "execute_result"
    }
   ],
   "source": [
    "\"\"\" \n",
    "    Kmeans(design_matrix, k; k_init=\"k-means++\", max_iters=300, tol=1e-4, verbose=true)\n",
    "\n",
    "    This main function employs the K-means algorithm to cluster all examples \n",
    "    in the training data (design_matrix) into k groups using either the \n",
    "    `k-means++` or random initialisation technique for selecting the initial\n",
    "    centroids. \n",
    "    \n",
    "    At the end of the number of iterations specified (max_iters), convergence is \n",
    "    achieved if difference between the current and last cost objective is\n",
    "    less than the tolerance level (tol). An error is thrown if convergence fails.\n",
    "\n",
    "    Details of operations can be either printed or not by setting verbose accordingly.\n",
    "    \n",
    "    A tuple representing labels, centroids, and sum_squares respectively is returned.\n",
    "    \n",
    "\"\"\"\n",
    "function Kmeans(design_matrix::Array{Float64, 2}, k::Int64; k_init::String=\"k-means++\",\n",
    "    max_iters::Int64=300, tol=1e-4, verbose::Bool=true)\n",
    "\n",
    "    centroids, n_row, n_col = smart_init(design_matrix, k, init=k_init)\n",
    "\n",
    "    labels = rand(1:k, n_row)\n",
    "    distances = zeros(n_row)\n",
    "\n",
    "    J_previous = Inf64\n",
    "\n",
    "    # Update centroids & labels with closest members until convergence\n",
    "    for iter = 1:max_iters\n",
    "        nearest_neighbour = pairwise(Euclidean(), design_matrix, centroids, dims=1)\n",
    "\n",
    "        min_val_idx = findmin.(eachrow(nearest_neighbour))\n",
    "\n",
    "        distances = [x[1] for x in min_val_idx]\n",
    "        labels = [x[2] for x in min_val_idx]\n",
    "\n",
    "        centroids = [ mean( X[findall(labels .== j), : ], dims = 1) for j = 1:k]\n",
    "        centroids = reduce(vcat, centroids)\n",
    "        \n",
    "        # Cost objective\n",
    "        J = (norm(distances) ^ 2) / n_row\n",
    "\n",
    "        if verbose\n",
    "            # Show progress and terminate if J stopped decreasing.\n",
    "            println(\"Iteration \", iter, \": Jclust = \", J, \".\")\n",
    "        end;\n",
    "\n",
    "        # Final Step: Check for convergence\n",
    "        if iter > 1 && abs(J - J_previous) < (tol * J)\n",
    "\n",
    "            sum_squares = sum_of_squares(design_matrix, labels, centroids, k)\n",
    "            \n",
    "            # Terminate algorithm with the assumption that K-means has converged\n",
    "            if verbose\n",
    "                println(\"Successfully terminated with convergence.\")\n",
    "            end\n",
    "\n",
    "            return labels, centroids, sum_squares\n",
    "\n",
    "        elseif iter == max_iters && abs(J - J_previous) > (tol * J)\n",
    "            throw(error(\"Failed to converge Check data and/or implementation or increase max_iter.\"))\n",
    "            \n",
    "        end;\n",
    "\n",
    "        J_previous = J\n",
    "    end\n",
    "\n",
    "end"
   ]
  },
  {
   "cell_type": "code",
   "execution_count": null,
   "metadata": {},
   "outputs": [],
   "source": []
  },
  {
   "cell_type": "code",
   "execution_count": null,
   "metadata": {},
   "outputs": [],
   "source": []
  },
  {
   "cell_type": "markdown",
   "metadata": {},
   "source": [
    "# Test Speed"
   ]
  },
  {
   "cell_type": "code",
   "execution_count": 7,
   "metadata": {
    "ExecuteTime": {
     "end_time": "2020-02-17T13:17:33.543000+01:00",
     "start_time": "2020-02-17T12:17:04.119Z"
    }
   },
   "outputs": [
    {
     "data": {
      "text/plain": [
       "9-element Array{Int64,1}:\n",
       "  2\n",
       "  3\n",
       "  4\n",
       "  5\n",
       "  6\n",
       "  7\n",
       "  8\n",
       "  9\n",
       " 10"
      ]
     },
     "execution_count": 7,
     "metadata": {},
     "output_type": "execute_result"
    }
   ],
   "source": [
    "[i for i = 2:10]"
   ]
  },
  {
   "cell_type": "code",
   "execution_count": null,
   "metadata": {},
   "outputs": [],
   "source": []
  },
  {
   "cell_type": "code",
   "execution_count": 8,
   "metadata": {
    "ExecuteTime": {
     "end_time": "2020-02-17T13:17:33.577000+01:00",
     "start_time": "2020-02-17T12:17:04.124Z"
    }
   },
   "outputs": [
    {
     "data": {
      "text/plain": [
       "test_speed"
      ]
     },
     "execution_count": 8,
     "metadata": {},
     "output_type": "execute_result"
    }
   ],
   "source": [
    "\"\"\"\n",
    "    Just a convenient function to select the number of cluster groups based \n",
    "    on the elbow method. Requries testing 2 to 10 k ranges.\n",
    "\"\"\"\n",
    "function test_speed(x)\n",
    "    for i = 2:10\n",
    "        l, c, s = Kmeans(x, i, k_init=\"k-means++\", verbose=false)\n",
    "    end\n",
    "end"
   ]
  },
  {
   "cell_type": "code",
   "execution_count": null,
   "metadata": {},
   "outputs": [],
   "source": []
  },
  {
   "cell_type": "code",
   "execution_count": 9,
   "metadata": {
    "ExecuteTime": {
     "end_time": "2020-02-17T13:26:15.689000+01:00",
     "start_time": "2020-02-17T12:17:04.130Z"
    }
   },
   "outputs": [
    {
     "data": {
      "text/plain": [
       "BenchmarkTools.Trial: \n",
       "  memory estimate:  14.17 GiB\n",
       "  allocs estimate:  74011692\n",
       "  --------------\n",
       "  minimum time:     15.249 s (12.48% GC)\n",
       "  median time:      16.524 s (14.94% GC)\n",
       "  mean time:        16.634 s (14.85% GC)\n",
       "  maximum time:     17.931 s (14.36% GC)\n",
       "  --------------\n",
       "  samples:          7\n",
       "  evals/sample:     1"
      ]
     },
     "execution_count": 9,
     "metadata": {},
     "output_type": "execute_result"
    }
   ],
   "source": [
    "r = @benchmark test_speed(X) samples=7 seconds=300"
   ]
  },
  {
   "cell_type": "code",
   "execution_count": null,
   "metadata": {},
   "outputs": [],
   "source": []
  },
  {
   "cell_type": "code",
   "execution_count": null,
   "metadata": {},
   "outputs": [],
   "source": []
  },
  {
   "cell_type": "markdown",
   "metadata": {},
   "source": [
    "# Final Output"
   ]
  },
  {
   "cell_type": "code",
   "execution_count": 10,
   "metadata": {
    "ExecuteTime": {
     "end_time": "2020-02-17T13:26:33.072000+01:00",
     "start_time": "2020-02-17T12:17:04.138Z"
    }
   },
   "outputs": [],
   "source": [
    "begin\n",
    "    num = []  # Store number of iterations\n",
    "    ss = []  # Store the sum of squares at each iteration\n",
    "    \n",
    "    for i = 2:10\n",
    "        l, c, s = Kmeans(X, i, k_init=\"k-means++\", verbose=false)\n",
    "        push!(num, i)\n",
    "        push!(ss, s)\n",
    "    end\n",
    "end"
   ]
  },
  {
   "cell_type": "code",
   "execution_count": null,
   "metadata": {},
   "outputs": [],
   "source": []
  },
  {
   "cell_type": "code",
   "execution_count": 11,
   "metadata": {
    "ExecuteTime": {
     "end_time": "2020-02-17T13:26:52.640000+01:00",
     "start_time": "2020-02-17T12:17:04.143Z"
    }
   },
   "outputs": [
    {
     "data": {
      "image/svg+xml": [
       "<?xml version=\"1.0\" encoding=\"utf-8\"?>\n",
       "<svg xmlns=\"http://www.w3.org/2000/svg\" xmlns:xlink=\"http://www.w3.org/1999/xlink\" width=\"600\" height=\"400\" viewBox=\"0 0 2400 1600\">\n",
       "<defs>\n",
       "  <clipPath id=\"clip3400\">\n",
       "    <rect x=\"0\" y=\"0\" width=\"2400\" height=\"1600\"/>\n",
       "  </clipPath>\n",
       "</defs>\n",
       "<path clip-path=\"url(#clip3400)\" d=\"\n",
       "M0 1600 L2400 1600 L2400 0 L0 0  Z\n",
       "  \" fill=\"#ffffff\" fill-rule=\"evenodd\" fill-opacity=\"1\"/>\n",
       "<defs>\n",
       "  <clipPath id=\"clip3401\">\n",
       "    <rect x=\"480\" y=\"0\" width=\"1681\" height=\"1600\"/>\n",
       "  </clipPath>\n",
       "</defs>\n",
       "<path clip-path=\"url(#clip3400)\" d=\"\n",
       "M389.035 1425.62 L2352.76 1425.62 L2352.76 121.675 L389.035 121.675  Z\n",
       "  \" fill=\"#ffffff\" fill-rule=\"evenodd\" fill-opacity=\"1\"/>\n",
       "<defs>\n",
       "  <clipPath id=\"clip3402\">\n",
       "    <rect x=\"389\" y=\"121\" width=\"1965\" height=\"1305\"/>\n",
       "  </clipPath>\n",
       "</defs>\n",
       "<polyline clip-path=\"url(#clip3402)\" style=\"stroke:#000000; stroke-width:2; stroke-opacity:0.1; fill:none\" points=\"\n",
       "  444.612,1425.62 444.612,121.675 \n",
       "  \"/>\n",
       "<polyline clip-path=\"url(#clip3402)\" style=\"stroke:#000000; stroke-width:2; stroke-opacity:0.1; fill:none\" points=\"\n",
       "  907.754,1425.62 907.754,121.675 \n",
       "  \"/>\n",
       "<polyline clip-path=\"url(#clip3402)\" style=\"stroke:#000000; stroke-width:2; stroke-opacity:0.1; fill:none\" points=\"\n",
       "  1370.9,1425.62 1370.9,121.675 \n",
       "  \"/>\n",
       "<polyline clip-path=\"url(#clip3402)\" style=\"stroke:#000000; stroke-width:2; stroke-opacity:0.1; fill:none\" points=\"\n",
       "  1834.04,1425.62 1834.04,121.675 \n",
       "  \"/>\n",
       "<polyline clip-path=\"url(#clip3402)\" style=\"stroke:#000000; stroke-width:2; stroke-opacity:0.1; fill:none\" points=\"\n",
       "  2297.18,1425.62 2297.18,121.675 \n",
       "  \"/>\n",
       "<polyline clip-path=\"url(#clip3402)\" style=\"stroke:#000000; stroke-width:2; stroke-opacity:0.1; fill:none\" points=\"\n",
       "  389.035,1324.02 2352.76,1324.02 \n",
       "  \"/>\n",
       "<polyline clip-path=\"url(#clip3402)\" style=\"stroke:#000000; stroke-width:2; stroke-opacity:0.1; fill:none\" points=\"\n",
       "  389.035,1140.52 2352.76,1140.52 \n",
       "  \"/>\n",
       "<polyline clip-path=\"url(#clip3402)\" style=\"stroke:#000000; stroke-width:2; stroke-opacity:0.1; fill:none\" points=\"\n",
       "  389.035,957.017 2352.76,957.017 \n",
       "  \"/>\n",
       "<polyline clip-path=\"url(#clip3402)\" style=\"stroke:#000000; stroke-width:2; stroke-opacity:0.1; fill:none\" points=\"\n",
       "  389.035,773.517 2352.76,773.517 \n",
       "  \"/>\n",
       "<polyline clip-path=\"url(#clip3402)\" style=\"stroke:#000000; stroke-width:2; stroke-opacity:0.1; fill:none\" points=\"\n",
       "  389.035,590.017 2352.76,590.017 \n",
       "  \"/>\n",
       "<polyline clip-path=\"url(#clip3402)\" style=\"stroke:#000000; stroke-width:2; stroke-opacity:0.1; fill:none\" points=\"\n",
       "  389.035,406.517 2352.76,406.517 \n",
       "  \"/>\n",
       "<polyline clip-path=\"url(#clip3402)\" style=\"stroke:#000000; stroke-width:2; stroke-opacity:0.1; fill:none\" points=\"\n",
       "  389.035,223.018 2352.76,223.018 \n",
       "  \"/>\n",
       "<polyline clip-path=\"url(#clip3400)\" style=\"stroke:#000000; stroke-width:4; stroke-opacity:1; fill:none\" points=\"\n",
       "  389.035,1425.62 2352.76,1425.62 \n",
       "  \"/>\n",
       "<polyline clip-path=\"url(#clip3400)\" style=\"stroke:#000000; stroke-width:4; stroke-opacity:1; fill:none\" points=\"\n",
       "  389.035,1425.62 389.035,121.675 \n",
       "  \"/>\n",
       "<polyline clip-path=\"url(#clip3400)\" style=\"stroke:#000000; stroke-width:4; stroke-opacity:1; fill:none\" points=\"\n",
       "  444.612,1425.62 444.612,1409.97 \n",
       "  \"/>\n",
       "<polyline clip-path=\"url(#clip3400)\" style=\"stroke:#000000; stroke-width:4; stroke-opacity:1; fill:none\" points=\"\n",
       "  907.754,1425.62 907.754,1409.97 \n",
       "  \"/>\n",
       "<polyline clip-path=\"url(#clip3400)\" style=\"stroke:#000000; stroke-width:4; stroke-opacity:1; fill:none\" points=\"\n",
       "  1370.9,1425.62 1370.9,1409.97 \n",
       "  \"/>\n",
       "<polyline clip-path=\"url(#clip3400)\" style=\"stroke:#000000; stroke-width:4; stroke-opacity:1; fill:none\" points=\"\n",
       "  1834.04,1425.62 1834.04,1409.97 \n",
       "  \"/>\n",
       "<polyline clip-path=\"url(#clip3400)\" style=\"stroke:#000000; stroke-width:4; stroke-opacity:1; fill:none\" points=\"\n",
       "  2297.18,1425.62 2297.18,1409.97 \n",
       "  \"/>\n",
       "<polyline clip-path=\"url(#clip3400)\" style=\"stroke:#000000; stroke-width:4; stroke-opacity:1; fill:none\" points=\"\n",
       "  389.035,1324.02 412.6,1324.02 \n",
       "  \"/>\n",
       "<polyline clip-path=\"url(#clip3400)\" style=\"stroke:#000000; stroke-width:4; stroke-opacity:1; fill:none\" points=\"\n",
       "  389.035,1140.52 412.6,1140.52 \n",
       "  \"/>\n",
       "<polyline clip-path=\"url(#clip3400)\" style=\"stroke:#000000; stroke-width:4; stroke-opacity:1; fill:none\" points=\"\n",
       "  389.035,957.017 412.6,957.017 \n",
       "  \"/>\n",
       "<polyline clip-path=\"url(#clip3400)\" style=\"stroke:#000000; stroke-width:4; stroke-opacity:1; fill:none\" points=\"\n",
       "  389.035,773.517 412.6,773.517 \n",
       "  \"/>\n",
       "<polyline clip-path=\"url(#clip3400)\" style=\"stroke:#000000; stroke-width:4; stroke-opacity:1; fill:none\" points=\"\n",
       "  389.035,590.017 412.6,590.017 \n",
       "  \"/>\n",
       "<polyline clip-path=\"url(#clip3400)\" style=\"stroke:#000000; stroke-width:4; stroke-opacity:1; fill:none\" points=\"\n",
       "  389.035,406.517 412.6,406.517 \n",
       "  \"/>\n",
       "<polyline clip-path=\"url(#clip3400)\" style=\"stroke:#000000; stroke-width:4; stroke-opacity:1; fill:none\" points=\"\n",
       "  389.035,223.018 412.6,223.018 \n",
       "  \"/>\n",
       "<g clip-path=\"url(#clip3400)\">\n",
       "<text style=\"fill:#000000; fill-opacity:1; font-family:Arial,Helvetica Neue,Helvetica,sans-serif; font-size:48px; text-anchor:middle;\" transform=\"rotate(0, 444.612, 1479.62)\" x=\"444.612\" y=\"1479.62\">2</text>\n",
       "</g>\n",
       "<g clip-path=\"url(#clip3400)\">\n",
       "<text style=\"fill:#000000; fill-opacity:1; font-family:Arial,Helvetica Neue,Helvetica,sans-serif; font-size:48px; text-anchor:middle;\" transform=\"rotate(0, 907.754, 1479.62)\" x=\"907.754\" y=\"1479.62\">4</text>\n",
       "</g>\n",
       "<g clip-path=\"url(#clip3400)\">\n",
       "<text style=\"fill:#000000; fill-opacity:1; font-family:Arial,Helvetica Neue,Helvetica,sans-serif; font-size:48px; text-anchor:middle;\" transform=\"rotate(0, 1370.9, 1479.62)\" x=\"1370.9\" y=\"1479.62\">6</text>\n",
       "</g>\n",
       "<g clip-path=\"url(#clip3400)\">\n",
       "<text style=\"fill:#000000; fill-opacity:1; font-family:Arial,Helvetica Neue,Helvetica,sans-serif; font-size:48px; text-anchor:middle;\" transform=\"rotate(0, 1834.04, 1479.62)\" x=\"1834.04\" y=\"1479.62\">8</text>\n",
       "</g>\n",
       "<g clip-path=\"url(#clip3400)\">\n",
       "<text style=\"fill:#000000; fill-opacity:1; font-family:Arial,Helvetica Neue,Helvetica,sans-serif; font-size:48px; text-anchor:middle;\" transform=\"rotate(0, 2297.18, 1479.62)\" x=\"2297.18\" y=\"1479.62\">10</text>\n",
       "</g>\n",
       "<g clip-path=\"url(#clip3400)\">\n",
       "<text style=\"fill:#000000; fill-opacity:1; font-family:Arial,Helvetica Neue,Helvetica,sans-serif; font-size:48px; text-anchor:start;\" transform=\"rotate(0, 167.988, 1347.74)\" x=\"167.988\" y=\"1347.74\">2.50×10</text>\n",
       "</g>\n",
       "<g clip-path=\"url(#clip3400)\">\n",
       "<text style=\"fill:#000000; fill-opacity:1; font-family:Arial,Helvetica Neue,Helvetica,sans-serif; font-size:38px; text-anchor:start;\" transform=\"rotate(0, 343.291, 1320.33)\" x=\"343.291\" y=\"1320.33\">6</text>\n",
       "</g>\n",
       "<g clip-path=\"url(#clip3400)\">\n",
       "<text style=\"fill:#000000; fill-opacity:1; font-family:Arial,Helvetica Neue,Helvetica,sans-serif; font-size:48px; text-anchor:start;\" transform=\"rotate(0, 167.988, 1164.24)\" x=\"167.988\" y=\"1164.24\">5.00×10</text>\n",
       "</g>\n",
       "<g clip-path=\"url(#clip3400)\">\n",
       "<text style=\"fill:#000000; fill-opacity:1; font-family:Arial,Helvetica Neue,Helvetica,sans-serif; font-size:38px; text-anchor:start;\" transform=\"rotate(0, 343.291, 1136.83)\" x=\"343.291\" y=\"1136.83\">6</text>\n",
       "</g>\n",
       "<g clip-path=\"url(#clip3400)\">\n",
       "<text style=\"fill:#000000; fill-opacity:1; font-family:Arial,Helvetica Neue,Helvetica,sans-serif; font-size:48px; text-anchor:start;\" transform=\"rotate(0, 167.988, 980.744)\" x=\"167.988\" y=\"980.744\">7.50×10</text>\n",
       "</g>\n",
       "<g clip-path=\"url(#clip3400)\">\n",
       "<text style=\"fill:#000000; fill-opacity:1; font-family:Arial,Helvetica Neue,Helvetica,sans-serif; font-size:38px; text-anchor:start;\" transform=\"rotate(0, 343.291, 953.334)\" x=\"343.291\" y=\"953.334\">6</text>\n",
       "</g>\n",
       "<g clip-path=\"url(#clip3400)\">\n",
       "<text style=\"fill:#000000; fill-opacity:1; font-family:Arial,Helvetica Neue,Helvetica,sans-serif; font-size:48px; text-anchor:start;\" transform=\"rotate(0, 167.988, 797.245)\" x=\"167.988\" y=\"797.245\">1.00×10</text>\n",
       "</g>\n",
       "<g clip-path=\"url(#clip3400)\">\n",
       "<text style=\"fill:#000000; fill-opacity:1; font-family:Arial,Helvetica Neue,Helvetica,sans-serif; font-size:38px; text-anchor:start;\" transform=\"rotate(0, 343.291, 769.834)\" x=\"343.291\" y=\"769.834\">7</text>\n",
       "</g>\n",
       "<g clip-path=\"url(#clip3400)\">\n",
       "<text style=\"fill:#000000; fill-opacity:1; font-family:Arial,Helvetica Neue,Helvetica,sans-serif; font-size:48px; text-anchor:start;\" transform=\"rotate(0, 167.988, 613.745)\" x=\"167.988\" y=\"613.745\">1.25×10</text>\n",
       "</g>\n",
       "<g clip-path=\"url(#clip3400)\">\n",
       "<text style=\"fill:#000000; fill-opacity:1; font-family:Arial,Helvetica Neue,Helvetica,sans-serif; font-size:38px; text-anchor:start;\" transform=\"rotate(0, 343.291, 586.334)\" x=\"343.291\" y=\"586.334\">7</text>\n",
       "</g>\n",
       "<g clip-path=\"url(#clip3400)\">\n",
       "<text style=\"fill:#000000; fill-opacity:1; font-family:Arial,Helvetica Neue,Helvetica,sans-serif; font-size:48px; text-anchor:start;\" transform=\"rotate(0, 167.988, 430.245)\" x=\"167.988\" y=\"430.245\">1.50×10</text>\n",
       "</g>\n",
       "<g clip-path=\"url(#clip3400)\">\n",
       "<text style=\"fill:#000000; fill-opacity:1; font-family:Arial,Helvetica Neue,Helvetica,sans-serif; font-size:38px; text-anchor:start;\" transform=\"rotate(0, 343.291, 402.835)\" x=\"343.291\" y=\"402.835\">7</text>\n",
       "</g>\n",
       "<g clip-path=\"url(#clip3400)\">\n",
       "<text style=\"fill:#000000; fill-opacity:1; font-family:Arial,Helvetica Neue,Helvetica,sans-serif; font-size:48px; text-anchor:start;\" transform=\"rotate(0, 167.988, 246.745)\" x=\"167.988\" y=\"246.745\">1.75×10</text>\n",
       "</g>\n",
       "<g clip-path=\"url(#clip3400)\">\n",
       "<text style=\"fill:#000000; fill-opacity:1; font-family:Arial,Helvetica Neue,Helvetica,sans-serif; font-size:38px; text-anchor:start;\" transform=\"rotate(0, 343.291, 219.335)\" x=\"343.291\" y=\"219.335\">7</text>\n",
       "</g>\n",
       "<g clip-path=\"url(#clip3400)\">\n",
       "<text style=\"fill:#000000; fill-opacity:1; font-family:Arial,Helvetica Neue,Helvetica,sans-serif; font-size:84px; text-anchor:middle;\" transform=\"rotate(0, 1370.9, 73.2)\" x=\"1370.9\" y=\"73.2\">Test For Heterogeneity Per Iteration</text>\n",
       "</g>\n",
       "<g clip-path=\"url(#clip3400)\">\n",
       "<text style=\"fill:#000000; fill-opacity:1; font-family:Arial,Helvetica Neue,Helvetica,sans-serif; font-size:66px; text-anchor:middle;\" transform=\"rotate(0, 1370.9, 1559.48)\" x=\"1370.9\" y=\"1559.48\">Number of Iterations</text>\n",
       "</g>\n",
       "<g clip-path=\"url(#clip3400)\">\n",
       "<text style=\"fill:#000000; fill-opacity:1; font-family:Arial,Helvetica Neue,Helvetica,sans-serif; font-size:66px; text-anchor:middle;\" transform=\"rotate(-90, 89.2861, 773.647)\" x=\"89.2861\" y=\"773.647\">Sum of Squares</text>\n",
       "</g>\n",
       "<polyline clip-path=\"url(#clip3402)\" style=\"stroke:#009af9; stroke-width:4; stroke-opacity:1; fill:none\" points=\"\n",
       "  444.612,158.579 676.183,1329.22 907.754,1341.75 1139.32,1354.43 1370.9,1363.08 1602.47,1375.68 1834.04,1384.37 2065.61,1376.68 2297.18,1388.71 \n",
       "  \"/>\n",
       "<circle clip-path=\"url(#clip3402)\" cx=\"444.612\" cy=\"158.579\" r=\"14\" fill=\"#ff0000\" fill-rule=\"evenodd\" fill-opacity=\"1\" stroke=\"#000000\" stroke-opacity=\"1\" stroke-width=\"3.2\"/>\n",
       "<circle clip-path=\"url(#clip3402)\" cx=\"676.183\" cy=\"1329.22\" r=\"14\" fill=\"#ff0000\" fill-rule=\"evenodd\" fill-opacity=\"1\" stroke=\"#000000\" stroke-opacity=\"1\" stroke-width=\"3.2\"/>\n",
       "<circle clip-path=\"url(#clip3402)\" cx=\"907.754\" cy=\"1341.75\" r=\"14\" fill=\"#ff0000\" fill-rule=\"evenodd\" fill-opacity=\"1\" stroke=\"#000000\" stroke-opacity=\"1\" stroke-width=\"3.2\"/>\n",
       "<circle clip-path=\"url(#clip3402)\" cx=\"1139.32\" cy=\"1354.43\" r=\"14\" fill=\"#ff0000\" fill-rule=\"evenodd\" fill-opacity=\"1\" stroke=\"#000000\" stroke-opacity=\"1\" stroke-width=\"3.2\"/>\n",
       "<circle clip-path=\"url(#clip3402)\" cx=\"1370.9\" cy=\"1363.08\" r=\"14\" fill=\"#ff0000\" fill-rule=\"evenodd\" fill-opacity=\"1\" stroke=\"#000000\" stroke-opacity=\"1\" stroke-width=\"3.2\"/>\n",
       "<circle clip-path=\"url(#clip3402)\" cx=\"1602.47\" cy=\"1375.68\" r=\"14\" fill=\"#ff0000\" fill-rule=\"evenodd\" fill-opacity=\"1\" stroke=\"#000000\" stroke-opacity=\"1\" stroke-width=\"3.2\"/>\n",
       "<circle clip-path=\"url(#clip3402)\" cx=\"1834.04\" cy=\"1384.37\" r=\"14\" fill=\"#ff0000\" fill-rule=\"evenodd\" fill-opacity=\"1\" stroke=\"#000000\" stroke-opacity=\"1\" stroke-width=\"3.2\"/>\n",
       "<circle clip-path=\"url(#clip3402)\" cx=\"2065.61\" cy=\"1376.68\" r=\"14\" fill=\"#ff0000\" fill-rule=\"evenodd\" fill-opacity=\"1\" stroke=\"#000000\" stroke-opacity=\"1\" stroke-width=\"3.2\"/>\n",
       "<circle clip-path=\"url(#clip3402)\" cx=\"2297.18\" cy=\"1388.71\" r=\"14\" fill=\"#ff0000\" fill-rule=\"evenodd\" fill-opacity=\"1\" stroke=\"#000000\" stroke-opacity=\"1\" stroke-width=\"3.2\"/>\n",
       "</svg>\n"
      ]
     },
     "execution_count": 11,
     "metadata": {},
     "output_type": "execute_result"
    }
   ],
   "source": [
    "plot(num, ss, ylabel=\"Sum of Squares\", xlabel=\"Number of Iterations\",\n",
    "     title = \"Test For Heterogeneity Per Iteration\", legend=false)\n",
    "\n",
    "scatter!(num, ss, color=\"red\")"
   ]
  },
  {
   "cell_type": "code",
   "execution_count": null,
   "metadata": {},
   "outputs": [],
   "source": []
  },
  {
   "cell_type": "code",
   "execution_count": null,
   "metadata": {},
   "outputs": [],
   "source": []
  },
  {
   "cell_type": "code",
   "execution_count": null,
   "metadata": {},
   "outputs": [],
   "source": []
  }
 ],
 "metadata": {
  "kernelspec": {
   "display_name": "Julia 1.3.1",
   "language": "julia",
   "name": "julia-1.3"
  },
  "language_info": {
   "file_extension": ".jl",
   "mimetype": "application/julia",
   "name": "julia",
   "version": "1.3.1"
  },
  "toc": {
   "base_numbering": 1,
   "nav_menu": {},
   "number_sections": true,
   "sideBar": true,
   "skip_h1_title": false,
   "title_cell": "Table of Contents",
   "title_sidebar": "Contents",
   "toc_cell": false,
   "toc_position": {},
   "toc_section_display": true,
   "toc_window_display": true
  },
  "varInspector": {
   "cols": {
    "lenName": 16,
    "lenType": 16,
    "lenVar": 40
   },
   "kernels_config": {
    "python": {
     "delete_cmd_postfix": "",
     "delete_cmd_prefix": "del ",
     "library": "var_list.py",
     "varRefreshCmd": "print(var_dic_list())"
    },
    "r": {
     "delete_cmd_postfix": ") ",
     "delete_cmd_prefix": "rm(",
     "library": "var_list.r",
     "varRefreshCmd": "cat(var_dic_list()) "
    }
   },
   "types_to_exclude": [
    "module",
    "function",
    "builtin_function_or_method",
    "instance",
    "_Feature"
   ],
   "window_display": false
  }
 },
 "nbformat": 4,
 "nbformat_minor": 4
}
